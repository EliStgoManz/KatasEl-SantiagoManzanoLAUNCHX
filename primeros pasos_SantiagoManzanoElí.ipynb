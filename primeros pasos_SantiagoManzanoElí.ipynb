{
 "cells": [
  {
   "cell_type": "code",
   "execution_count": 3,
   "metadata": {},
   "outputs": [
    {
     "name": "stdout",
     "output_type": "stream",
     "text": [
      "6\n"
     ]
    }
   ],
   "source": [
    "sum=1+2#3\n",
    "product=sum*2\n",
    "print(product)"
   ]
  },
  {
   "cell_type": "code",
   "execution_count": 1,
   "metadata": {},
   "outputs": [
    {
     "name": "stdout",
     "output_type": "stream",
     "text": [
      "Hola desde consola\n"
     ]
    }
   ],
   "source": [
    "print('Hola desde consola')"
   ]
  },
  {
   "cell_type": "code",
   "execution_count": 3,
   "metadata": {},
   "outputs": [
    {
     "data": {
      "text/plain": [
       "float"
      ]
     },
     "execution_count": 3,
     "metadata": {},
     "output_type": "execute_result"
    }
   ],
   "source": [
    "#declaramos la variable con su valor\n",
    "distancia_a_alfa_centauri=4.367\n",
    "\n",
    "type(distancia_a_alfa_centauri)"
   ]
  },
  {
   "cell_type": "code",
   "execution_count": 4,
   "metadata": {},
   "outputs": [
    {
     "name": "stdout",
     "output_type": "stream",
     "text": [
      "2022-02-15\n"
     ]
    }
   ],
   "source": [
    "#importamos la biblioteca\n",
    "from datetime import date\n",
    "\n",
    "#obtenemos la fecha de hoy\n",
    "date.today()\n",
    "\n",
    "#Mostramos la fecha en la consola\n",
    "print(date.today())"
   ]
  },
  {
   "cell_type": "code",
   "execution_count": 5,
   "metadata": {},
   "outputs": [
    {
     "name": "stdout",
     "output_type": "stream",
     "text": [
      "today's date is2022-02-15\n"
     ]
    }
   ],
   "source": [
    "print(\"today's date is\"+ str(date.today()))"
   ]
  },
  {
   "cell_type": "code",
   "execution_count": 7,
   "metadata": {},
   "outputs": [
    {
     "name": "stdout",
     "output_type": "stream",
     "text": [
      "Bienvenido al programa de Bienvenida\n",
      "saludos:\n"
     ]
    }
   ],
   "source": [
    "print(\"Bienvenido al programa de Bienvenida\")\n",
    "name=input(\"introduzca su nombre\")\n",
    "print(\"saludos:\"+name)"
   ]
  },
  {
   "cell_type": "code",
   "execution_count": 12,
   "metadata": {},
   "outputs": [
    {
     "name": "stdout",
     "output_type": "stream",
     "text": [
      "11 parsec is 0 lightyears\n"
     ]
    }
   ],
   "source": [
    "parsec=11\n",
    "lightyears=0\n",
    "print(str(parsec) +\" parsec is \"+str(lightyears)+ \" lightyears\")"
   ]
  }
 ],
 "metadata": {
  "interpreter": {
   "hash": "98dbdd0d62af11e3f9ec9d9549f7607dec122c986b6937c6cb5740f1477200e4"
  },
  "kernelspec": {
   "display_name": "Python 3.9.4 64-bit",
   "language": "python",
   "name": "python3"
  },
  "language_info": {
   "codemirror_mode": {
    "name": "ipython",
    "version": 3
   },
   "file_extension": ".py",
   "mimetype": "text/x-python",
   "name": "python",
   "nbconvert_exporter": "python",
   "pygments_lexer": "ipython3",
   "version": "3.9.4"
  },
  "orig_nbformat": 4
 },
 "nbformat": 4,
 "nbformat_minor": 2
}
